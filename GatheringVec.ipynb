{
 "cells": [
  {
   "cell_type": "markdown",
   "metadata": {},
   "source": [
    "# Turn vector csv into npy"
   ]
  },
  {
   "cell_type": "code",
   "execution_count": 1,
   "metadata": {},
   "outputs": [],
   "source": [
    "# Basic import\n",
    "import os\n",
    "import sys\n",
    "import json\n",
    "import shutil\n",
    "import pandas as pd\n",
    "import numpy as np\n",
    "import matplotlib.pyplot as plt"
   ]
  },
  {
   "cell_type": "code",
   "execution_count": 2,
   "metadata": {},
   "outputs": [],
   "source": [
    "# Helper function\n",
    "def writeProgress(msg, count, total):\n",
    "    sys.stdout.write(msg + \"{:.2%}\\r\".format(count/total))\n",
    "    sys.stdout.flush()\n",
    "    \n",
    "def newPath(path):\n",
    "    if not os.path.isdir(path):\n",
    "        os.mkdir(path)\n",
    "\n",
    "def read_json(src_path):\n",
    "    with open(src_path, 'r') as json_file:\n",
    "        data = json.load(json_file)\n",
    "    return data\n",
    "\n",
    "def write_json(data,dst_path):\n",
    "    with open(dst_path, 'w') as outfile:\n",
    "        json.dump(data, outfile)\n",
    "\n",
    "def writeLog(row):\n",
    "    with open('log.txt', 'a') as outfile:\n",
    "        outfile.write(row + '\\n')\n",
    "\n",
    "def getErrMsg(e):\n",
    "    error_class = e.__class__.__name__ #取得錯誤類型\n",
    "    detail = e.args[0] #取得詳細內容\n",
    "    errMsg = \"[{}] {}\".format(error_class, detail)\n",
    "    return errMsg"
   ]
  },
  {
   "cell_type": "markdown",
   "metadata": {},
   "source": [
    "# Feature"
   ]
  },
  {
   "cell_type": "markdown",
   "metadata": {},
   "source": [
    "## Text"
   ]
  },
  {
   "cell_type": "code",
   "execution_count": null,
   "metadata": {},
   "outputs": [],
   "source": [
    "PATH = '../Text/output/TextFeatureVec.csv'\n",
    "SAVE_NAME = 'text'"
   ]
  },
  {
   "cell_type": "code",
   "execution_count": null,
   "metadata": {},
   "outputs": [],
   "source": [
    "df = pd.read_csv(PATH, header = None)\n",
    "df"
   ]
  },
  {
   "cell_type": "code",
   "execution_count": null,
   "metadata": {},
   "outputs": [],
   "source": [
    "df = df.loc[:, 1:]\n",
    "df"
   ]
  },
  {
   "cell_type": "code",
   "execution_count": null,
   "metadata": {},
   "outputs": [],
   "source": [
    "npy = df.to_numpy()\n",
    "print(npy.shape, npy)"
   ]
  },
  {
   "cell_type": "code",
   "execution_count": null,
   "metadata": {},
   "outputs": [],
   "source": [
    "np.save('./npy/' + SAVE_NAME + '.npy', npy)"
   ]
  },
  {
   "cell_type": "markdown",
   "metadata": {},
   "source": [
    "## Image"
   ]
  },
  {
   "cell_type": "markdown",
   "metadata": {},
   "source": [
    "### Poster"
   ]
  },
  {
   "cell_type": "code",
   "execution_count": null,
   "metadata": {},
   "outputs": [],
   "source": [
    "PATH = '../Image/Sample/output/PosterFeatureVec.csv'\n",
    "SAVE_NAME = 'poster'"
   ]
  },
  {
   "cell_type": "code",
   "execution_count": null,
   "metadata": {},
   "outputs": [],
   "source": [
    "df = pd.read_csv(PATH, header = None)\n",
    "df"
   ]
  },
  {
   "cell_type": "code",
   "execution_count": null,
   "metadata": {},
   "outputs": [],
   "source": [
    "df = df.loc[:, 1:]\n",
    "df"
   ]
  },
  {
   "cell_type": "code",
   "execution_count": null,
   "metadata": {},
   "outputs": [],
   "source": [
    "poster_npy = df.to_numpy()\n",
    "print(poster_npy.shape, poster_npy)"
   ]
  },
  {
   "cell_type": "code",
   "execution_count": null,
   "metadata": {},
   "outputs": [],
   "source": [
    "# np.save('./npy/' + SAVE_NAME + '.npy', npy)"
   ]
  },
  {
   "cell_type": "markdown",
   "metadata": {},
   "source": [
    "### IG"
   ]
  },
  {
   "cell_type": "code",
   "execution_count": null,
   "metadata": {},
   "outputs": [],
   "source": [
    "PATH = '../Image/Sample/output/IGimgFeatureVec.csv'\n",
    "SAVE_NAME = 'IGimg'"
   ]
  },
  {
   "cell_type": "code",
   "execution_count": null,
   "metadata": {},
   "outputs": [],
   "source": [
    "df = pd.read_csv(PATH, header = None)\n",
    "df"
   ]
  },
  {
   "cell_type": "code",
   "execution_count": null,
   "metadata": {},
   "outputs": [],
   "source": [
    "df['username'] = [string.split('_')[0] for string in df[0]]\n",
    "df"
   ]
  },
  {
   "cell_type": "code",
   "execution_count": null,
   "metadata": {},
   "outputs": [],
   "source": [
    "group = df.groupby('username').mean()\n",
    "group.to_csv('../Image/Sample/output/IGimgFeatureVec_group.csv')\n",
    "group"
   ]
  },
  {
   "cell_type": "code",
   "execution_count": null,
   "metadata": {},
   "outputs": [],
   "source": [
    "IG_npy = group.to_numpy()\n",
    "print(IG_npy.shape, IG_npy)"
   ]
  },
  {
   "cell_type": "code",
   "execution_count": null,
   "metadata": {},
   "outputs": [],
   "source": [
    "# np.save('./npy/' + SAVE_NAME + '.npy', npy)"
   ]
  },
  {
   "cell_type": "markdown",
   "metadata": {},
   "source": [
    "### Merge image feature"
   ]
  },
  {
   "cell_type": "code",
   "execution_count": null,
   "metadata": {},
   "outputs": [],
   "source": [
    "SAVE_NAME = \"image\""
   ]
  },
  {
   "cell_type": "code",
   "execution_count": null,
   "metadata": {},
   "outputs": [],
   "source": [
    "npy = (poster_npy + IG_npy) / 2\n",
    "print(npy.shape, npy)"
   ]
  },
  {
   "cell_type": "code",
   "execution_count": null,
   "metadata": {},
   "outputs": [],
   "source": [
    "np.save('./npy/' + SAVE_NAME + '.npy', npy)"
   ]
  },
  {
   "cell_type": "markdown",
   "metadata": {},
   "source": [
    "## Video"
   ]
  },
  {
   "cell_type": "code",
   "execution_count": null,
   "metadata": {},
   "outputs": [],
   "source": [
    "PATH = '../Video/csv/computed_minmaxnorm_2019_log.csv'\n",
    "SAVE_NAME = 'video'"
   ]
  },
  {
   "cell_type": "code",
   "execution_count": null,
   "metadata": {},
   "outputs": [],
   "source": [
    "df = pd.read_csv(PATH)\n",
    "df"
   ]
  },
  {
   "cell_type": "code",
   "execution_count": null,
   "metadata": {},
   "outputs": [],
   "source": [
    "df = df.iloc[:, 9:]\n",
    "df"
   ]
  },
  {
   "cell_type": "code",
   "execution_count": null,
   "metadata": {},
   "outputs": [],
   "source": [
    "npy = df.to_numpy()\n",
    "print(npy.shape, npy)"
   ]
  },
  {
   "cell_type": "code",
   "execution_count": null,
   "metadata": {},
   "outputs": [],
   "source": [
    "np.save('./npy/' + SAVE_NAME + '.npy', npy)"
   ]
  },
  {
   "cell_type": "markdown",
   "metadata": {},
   "source": [
    "## Follow"
   ]
  },
  {
   "cell_type": "code",
   "execution_count": 3,
   "metadata": {},
   "outputs": [],
   "source": [
    "PATH = '../Autoencoder/output/grid/80-10dim.csv'\n",
    "SAVE_NAME = 'follow'"
   ]
  },
  {
   "cell_type": "code",
   "execution_count": 4,
   "metadata": {},
   "outputs": [
    {
     "data": {
      "text/html": [
       "<div>\n",
       "<style scoped>\n",
       "    .dataframe tbody tr th:only-of-type {\n",
       "        vertical-align: middle;\n",
       "    }\n",
       "\n",
       "    .dataframe tbody tr th {\n",
       "        vertical-align: top;\n",
       "    }\n",
       "\n",
       "    .dataframe thead th {\n",
       "        text-align: right;\n",
       "    }\n",
       "</style>\n",
       "<table border=\"1\" class=\"dataframe\">\n",
       "  <thead>\n",
       "    <tr style=\"text-align: right;\">\n",
       "      <th></th>\n",
       "      <th>movie</th>\n",
       "      <th>feature_0</th>\n",
       "      <th>feature_1</th>\n",
       "      <th>feature_2</th>\n",
       "      <th>feature_3</th>\n",
       "      <th>feature_4</th>\n",
       "      <th>feature_5</th>\n",
       "      <th>feature_6</th>\n",
       "      <th>feature_7</th>\n",
       "      <th>feature_8</th>\n",
       "      <th>feature_9</th>\n",
       "    </tr>\n",
       "  </thead>\n",
       "  <tbody>\n",
       "    <tr>\n",
       "      <th>0</th>\n",
       "      <td>21bridgesmovie</td>\n",
       "      <td>1.313291</td>\n",
       "      <td>1.413283</td>\n",
       "      <td>1.544461</td>\n",
       "      <td>1.886759</td>\n",
       "      <td>1.728442</td>\n",
       "      <td>0.000000</td>\n",
       "      <td>1.137120</td>\n",
       "      <td>1.510174</td>\n",
       "      <td>0.978163</td>\n",
       "      <td>1.822727</td>\n",
       "    </tr>\n",
       "    <tr>\n",
       "      <th>1</th>\n",
       "      <td>47metersdown</td>\n",
       "      <td>0.837493</td>\n",
       "      <td>0.905968</td>\n",
       "      <td>1.373671</td>\n",
       "      <td>1.346066</td>\n",
       "      <td>1.459658</td>\n",
       "      <td>0.000000</td>\n",
       "      <td>0.565606</td>\n",
       "      <td>1.517898</td>\n",
       "      <td>0.007892</td>\n",
       "      <td>1.391771</td>\n",
       "    </tr>\n",
       "    <tr>\n",
       "      <th>2</th>\n",
       "      <td>abeautifuldaymovie</td>\n",
       "      <td>1.062834</td>\n",
       "      <td>1.609145</td>\n",
       "      <td>1.423535</td>\n",
       "      <td>1.532653</td>\n",
       "      <td>1.381293</td>\n",
       "      <td>0.000000</td>\n",
       "      <td>1.040888</td>\n",
       "      <td>1.345244</td>\n",
       "      <td>0.888910</td>\n",
       "      <td>1.047465</td>\n",
       "    </tr>\n",
       "    <tr>\n",
       "      <th>3</th>\n",
       "      <td>abominablemovie</td>\n",
       "      <td>1.119693</td>\n",
       "      <td>1.546281</td>\n",
       "      <td>0.241988</td>\n",
       "      <td>1.136334</td>\n",
       "      <td>1.616928</td>\n",
       "      <td>0.000000</td>\n",
       "      <td>0.707046</td>\n",
       "      <td>0.821275</td>\n",
       "      <td>0.929626</td>\n",
       "      <td>0.747105</td>\n",
       "    </tr>\n",
       "    <tr>\n",
       "      <th>4</th>\n",
       "      <td>adastramovie</td>\n",
       "      <td>1.365520</td>\n",
       "      <td>0.578039</td>\n",
       "      <td>1.282238</td>\n",
       "      <td>1.432905</td>\n",
       "      <td>1.270007</td>\n",
       "      <td>0.094023</td>\n",
       "      <td>0.953967</td>\n",
       "      <td>1.771913</td>\n",
       "      <td>0.411324</td>\n",
       "      <td>1.990719</td>\n",
       "    </tr>\n",
       "    <tr>\n",
       "      <th>...</th>\n",
       "      <td>...</td>\n",
       "      <td>...</td>\n",
       "      <td>...</td>\n",
       "      <td>...</td>\n",
       "      <td>...</td>\n",
       "      <td>...</td>\n",
       "      <td>...</td>\n",
       "      <td>...</td>\n",
       "      <td>...</td>\n",
       "      <td>...</td>\n",
       "      <td>...</td>\n",
       "    </tr>\n",
       "    <tr>\n",
       "      <th>160</th>\n",
       "      <td>wrinklestheclown</td>\n",
       "      <td>0.751404</td>\n",
       "      <td>0.784730</td>\n",
       "      <td>0.843319</td>\n",
       "      <td>0.931058</td>\n",
       "      <td>0.829312</td>\n",
       "      <td>0.000000</td>\n",
       "      <td>0.719121</td>\n",
       "      <td>0.997329</td>\n",
       "      <td>0.524739</td>\n",
       "      <td>0.931197</td>\n",
       "    </tr>\n",
       "    <tr>\n",
       "      <th>161</th>\n",
       "      <td>xmenmovies</td>\n",
       "      <td>0.680980</td>\n",
       "      <td>1.059782</td>\n",
       "      <td>1.427396</td>\n",
       "      <td>1.851414</td>\n",
       "      <td>1.099045</td>\n",
       "      <td>0.000000</td>\n",
       "      <td>1.039739</td>\n",
       "      <td>0.825713</td>\n",
       "      <td>0.891358</td>\n",
       "      <td>1.306172</td>\n",
       "    </tr>\n",
       "    <tr>\n",
       "      <th>162</th>\n",
       "      <td>yardiefilm</td>\n",
       "      <td>1.058341</td>\n",
       "      <td>1.289066</td>\n",
       "      <td>1.350711</td>\n",
       "      <td>1.435796</td>\n",
       "      <td>1.171857</td>\n",
       "      <td>0.000000</td>\n",
       "      <td>1.037003</td>\n",
       "      <td>1.555916</td>\n",
       "      <td>0.771497</td>\n",
       "      <td>1.444147</td>\n",
       "    </tr>\n",
       "    <tr>\n",
       "      <th>163</th>\n",
       "      <td>yesterdaymovie</td>\n",
       "      <td>1.181066</td>\n",
       "      <td>1.273515</td>\n",
       "      <td>1.553790</td>\n",
       "      <td>1.594873</td>\n",
       "      <td>1.626290</td>\n",
       "      <td>0.000000</td>\n",
       "      <td>0.995866</td>\n",
       "      <td>1.313411</td>\n",
       "      <td>0.817974</td>\n",
       "      <td>1.134134</td>\n",
       "    </tr>\n",
       "    <tr>\n",
       "      <th>164</th>\n",
       "      <td>zombieland</td>\n",
       "      <td>0.156272</td>\n",
       "      <td>3.202521</td>\n",
       "      <td>1.255736</td>\n",
       "      <td>1.322427</td>\n",
       "      <td>1.222130</td>\n",
       "      <td>0.000000</td>\n",
       "      <td>1.043058</td>\n",
       "      <td>0.305793</td>\n",
       "      <td>1.542696</td>\n",
       "      <td>0.195504</td>\n",
       "    </tr>\n",
       "  </tbody>\n",
       "</table>\n",
       "<p>165 rows × 11 columns</p>\n",
       "</div>"
      ],
      "text/plain": [
       "                  movie  feature_0  feature_1  feature_2  feature_3  \\\n",
       "0        21bridgesmovie   1.313291   1.413283   1.544461   1.886759   \n",
       "1          47metersdown   0.837493   0.905968   1.373671   1.346066   \n",
       "2    abeautifuldaymovie   1.062834   1.609145   1.423535   1.532653   \n",
       "3       abominablemovie   1.119693   1.546281   0.241988   1.136334   \n",
       "4          adastramovie   1.365520   0.578039   1.282238   1.432905   \n",
       "..                  ...        ...        ...        ...        ...   \n",
       "160    wrinklestheclown   0.751404   0.784730   0.843319   0.931058   \n",
       "161          xmenmovies   0.680980   1.059782   1.427396   1.851414   \n",
       "162          yardiefilm   1.058341   1.289066   1.350711   1.435796   \n",
       "163      yesterdaymovie   1.181066   1.273515   1.553790   1.594873   \n",
       "164          zombieland   0.156272   3.202521   1.255736   1.322427   \n",
       "\n",
       "     feature_4  feature_5  feature_6  feature_7  feature_8  feature_9  \n",
       "0     1.728442   0.000000   1.137120   1.510174   0.978163   1.822727  \n",
       "1     1.459658   0.000000   0.565606   1.517898   0.007892   1.391771  \n",
       "2     1.381293   0.000000   1.040888   1.345244   0.888910   1.047465  \n",
       "3     1.616928   0.000000   0.707046   0.821275   0.929626   0.747105  \n",
       "4     1.270007   0.094023   0.953967   1.771913   0.411324   1.990719  \n",
       "..         ...        ...        ...        ...        ...        ...  \n",
       "160   0.829312   0.000000   0.719121   0.997329   0.524739   0.931197  \n",
       "161   1.099045   0.000000   1.039739   0.825713   0.891358   1.306172  \n",
       "162   1.171857   0.000000   1.037003   1.555916   0.771497   1.444147  \n",
       "163   1.626290   0.000000   0.995866   1.313411   0.817974   1.134134  \n",
       "164   1.222130   0.000000   1.043058   0.305793   1.542696   0.195504  \n",
       "\n",
       "[165 rows x 11 columns]"
      ]
     },
     "execution_count": 4,
     "metadata": {},
     "output_type": "execute_result"
    }
   ],
   "source": [
    "df = pd.read_csv(PATH)\n",
    "df"
   ]
  },
  {
   "cell_type": "code",
   "execution_count": 5,
   "metadata": {},
   "outputs": [
    {
     "data": {
      "text/html": [
       "<div>\n",
       "<style scoped>\n",
       "    .dataframe tbody tr th:only-of-type {\n",
       "        vertical-align: middle;\n",
       "    }\n",
       "\n",
       "    .dataframe tbody tr th {\n",
       "        vertical-align: top;\n",
       "    }\n",
       "\n",
       "    .dataframe thead th {\n",
       "        text-align: right;\n",
       "    }\n",
       "</style>\n",
       "<table border=\"1\" class=\"dataframe\">\n",
       "  <thead>\n",
       "    <tr style=\"text-align: right;\">\n",
       "      <th></th>\n",
       "      <th>feature_0</th>\n",
       "      <th>feature_1</th>\n",
       "      <th>feature_2</th>\n",
       "      <th>feature_3</th>\n",
       "      <th>feature_4</th>\n",
       "      <th>feature_5</th>\n",
       "      <th>feature_6</th>\n",
       "      <th>feature_7</th>\n",
       "      <th>feature_8</th>\n",
       "      <th>feature_9</th>\n",
       "    </tr>\n",
       "  </thead>\n",
       "  <tbody>\n",
       "    <tr>\n",
       "      <th>0</th>\n",
       "      <td>1.313291</td>\n",
       "      <td>1.413283</td>\n",
       "      <td>1.544461</td>\n",
       "      <td>1.886759</td>\n",
       "      <td>1.728442</td>\n",
       "      <td>0.000000</td>\n",
       "      <td>1.137120</td>\n",
       "      <td>1.510174</td>\n",
       "      <td>0.978163</td>\n",
       "      <td>1.822727</td>\n",
       "    </tr>\n",
       "    <tr>\n",
       "      <th>1</th>\n",
       "      <td>0.837493</td>\n",
       "      <td>0.905968</td>\n",
       "      <td>1.373671</td>\n",
       "      <td>1.346066</td>\n",
       "      <td>1.459658</td>\n",
       "      <td>0.000000</td>\n",
       "      <td>0.565606</td>\n",
       "      <td>1.517898</td>\n",
       "      <td>0.007892</td>\n",
       "      <td>1.391771</td>\n",
       "    </tr>\n",
       "    <tr>\n",
       "      <th>2</th>\n",
       "      <td>1.062834</td>\n",
       "      <td>1.609145</td>\n",
       "      <td>1.423535</td>\n",
       "      <td>1.532653</td>\n",
       "      <td>1.381293</td>\n",
       "      <td>0.000000</td>\n",
       "      <td>1.040888</td>\n",
       "      <td>1.345244</td>\n",
       "      <td>0.888910</td>\n",
       "      <td>1.047465</td>\n",
       "    </tr>\n",
       "    <tr>\n",
       "      <th>3</th>\n",
       "      <td>1.119693</td>\n",
       "      <td>1.546281</td>\n",
       "      <td>0.241988</td>\n",
       "      <td>1.136334</td>\n",
       "      <td>1.616928</td>\n",
       "      <td>0.000000</td>\n",
       "      <td>0.707046</td>\n",
       "      <td>0.821275</td>\n",
       "      <td>0.929626</td>\n",
       "      <td>0.747105</td>\n",
       "    </tr>\n",
       "    <tr>\n",
       "      <th>4</th>\n",
       "      <td>1.365520</td>\n",
       "      <td>0.578039</td>\n",
       "      <td>1.282238</td>\n",
       "      <td>1.432905</td>\n",
       "      <td>1.270007</td>\n",
       "      <td>0.094023</td>\n",
       "      <td>0.953967</td>\n",
       "      <td>1.771913</td>\n",
       "      <td>0.411324</td>\n",
       "      <td>1.990719</td>\n",
       "    </tr>\n",
       "    <tr>\n",
       "      <th>...</th>\n",
       "      <td>...</td>\n",
       "      <td>...</td>\n",
       "      <td>...</td>\n",
       "      <td>...</td>\n",
       "      <td>...</td>\n",
       "      <td>...</td>\n",
       "      <td>...</td>\n",
       "      <td>...</td>\n",
       "      <td>...</td>\n",
       "      <td>...</td>\n",
       "    </tr>\n",
       "    <tr>\n",
       "      <th>160</th>\n",
       "      <td>0.751404</td>\n",
       "      <td>0.784730</td>\n",
       "      <td>0.843319</td>\n",
       "      <td>0.931058</td>\n",
       "      <td>0.829312</td>\n",
       "      <td>0.000000</td>\n",
       "      <td>0.719121</td>\n",
       "      <td>0.997329</td>\n",
       "      <td>0.524739</td>\n",
       "      <td>0.931197</td>\n",
       "    </tr>\n",
       "    <tr>\n",
       "      <th>161</th>\n",
       "      <td>0.680980</td>\n",
       "      <td>1.059782</td>\n",
       "      <td>1.427396</td>\n",
       "      <td>1.851414</td>\n",
       "      <td>1.099045</td>\n",
       "      <td>0.000000</td>\n",
       "      <td>1.039739</td>\n",
       "      <td>0.825713</td>\n",
       "      <td>0.891358</td>\n",
       "      <td>1.306172</td>\n",
       "    </tr>\n",
       "    <tr>\n",
       "      <th>162</th>\n",
       "      <td>1.058341</td>\n",
       "      <td>1.289066</td>\n",
       "      <td>1.350711</td>\n",
       "      <td>1.435796</td>\n",
       "      <td>1.171857</td>\n",
       "      <td>0.000000</td>\n",
       "      <td>1.037003</td>\n",
       "      <td>1.555916</td>\n",
       "      <td>0.771497</td>\n",
       "      <td>1.444147</td>\n",
       "    </tr>\n",
       "    <tr>\n",
       "      <th>163</th>\n",
       "      <td>1.181066</td>\n",
       "      <td>1.273515</td>\n",
       "      <td>1.553790</td>\n",
       "      <td>1.594873</td>\n",
       "      <td>1.626290</td>\n",
       "      <td>0.000000</td>\n",
       "      <td>0.995866</td>\n",
       "      <td>1.313411</td>\n",
       "      <td>0.817974</td>\n",
       "      <td>1.134134</td>\n",
       "    </tr>\n",
       "    <tr>\n",
       "      <th>164</th>\n",
       "      <td>0.156272</td>\n",
       "      <td>3.202521</td>\n",
       "      <td>1.255736</td>\n",
       "      <td>1.322427</td>\n",
       "      <td>1.222130</td>\n",
       "      <td>0.000000</td>\n",
       "      <td>1.043058</td>\n",
       "      <td>0.305793</td>\n",
       "      <td>1.542696</td>\n",
       "      <td>0.195504</td>\n",
       "    </tr>\n",
       "  </tbody>\n",
       "</table>\n",
       "<p>165 rows × 10 columns</p>\n",
       "</div>"
      ],
      "text/plain": [
       "     feature_0  feature_1  feature_2  feature_3  feature_4  feature_5  \\\n",
       "0     1.313291   1.413283   1.544461   1.886759   1.728442   0.000000   \n",
       "1     0.837493   0.905968   1.373671   1.346066   1.459658   0.000000   \n",
       "2     1.062834   1.609145   1.423535   1.532653   1.381293   0.000000   \n",
       "3     1.119693   1.546281   0.241988   1.136334   1.616928   0.000000   \n",
       "4     1.365520   0.578039   1.282238   1.432905   1.270007   0.094023   \n",
       "..         ...        ...        ...        ...        ...        ...   \n",
       "160   0.751404   0.784730   0.843319   0.931058   0.829312   0.000000   \n",
       "161   0.680980   1.059782   1.427396   1.851414   1.099045   0.000000   \n",
       "162   1.058341   1.289066   1.350711   1.435796   1.171857   0.000000   \n",
       "163   1.181066   1.273515   1.553790   1.594873   1.626290   0.000000   \n",
       "164   0.156272   3.202521   1.255736   1.322427   1.222130   0.000000   \n",
       "\n",
       "     feature_6  feature_7  feature_8  feature_9  \n",
       "0     1.137120   1.510174   0.978163   1.822727  \n",
       "1     0.565606   1.517898   0.007892   1.391771  \n",
       "2     1.040888   1.345244   0.888910   1.047465  \n",
       "3     0.707046   0.821275   0.929626   0.747105  \n",
       "4     0.953967   1.771913   0.411324   1.990719  \n",
       "..         ...        ...        ...        ...  \n",
       "160   0.719121   0.997329   0.524739   0.931197  \n",
       "161   1.039739   0.825713   0.891358   1.306172  \n",
       "162   1.037003   1.555916   0.771497   1.444147  \n",
       "163   0.995866   1.313411   0.817974   1.134134  \n",
       "164   1.043058   0.305793   1.542696   0.195504  \n",
       "\n",
       "[165 rows x 10 columns]"
      ]
     },
     "execution_count": 5,
     "metadata": {},
     "output_type": "execute_result"
    }
   ],
   "source": [
    "df = df.iloc[:, 1:]\n",
    "df"
   ]
  },
  {
   "cell_type": "code",
   "execution_count": 6,
   "metadata": {},
   "outputs": [
    {
     "name": "stdout",
     "output_type": "stream",
     "text": [
      "(165, 10) [[1.3132908  1.4132833  1.5444614  ... 1.5101745  0.97816306 1.8227268 ]\n",
      " [0.8374928  0.9059681  1.3736712  ... 1.5178976  0.00789221 1.3917707 ]\n",
      " [1.062834   1.6091454  1.4235351  ... 1.3452443  0.8889104  1.0474652 ]\n",
      " ...\n",
      " [1.0583408  1.2890663  1.350711   ... 1.5559162  0.77149683 1.4441472 ]\n",
      " [1.1810656  1.2735145  1.5537901  ... 1.3134111  0.8179738  1.1341342 ]\n",
      " [0.15627183 3.2025208  1.2557362  ... 0.30579287 1.5426961  0.19550432]]\n"
     ]
    }
   ],
   "source": [
    "npy = df.to_numpy()\n",
    "print(npy.shape, npy)"
   ]
  },
  {
   "cell_type": "code",
   "execution_count": 7,
   "metadata": {},
   "outputs": [],
   "source": [
    "np.save('./npy/' + SAVE_NAME + '.npy', npy)"
   ]
  },
  {
   "cell_type": "markdown",
   "metadata": {},
   "source": [
    "## Social"
   ]
  },
  {
   "cell_type": "code",
   "execution_count": null,
   "metadata": {},
   "outputs": [],
   "source": [
    "PATH = '../Social/social_norm.csv'\n",
    "SAVE_NAME = 'social'"
   ]
  },
  {
   "cell_type": "code",
   "execution_count": null,
   "metadata": {},
   "outputs": [],
   "source": [
    "df = pd.read_csv(PATH)\n",
    "df"
   ]
  },
  {
   "cell_type": "code",
   "execution_count": null,
   "metadata": {},
   "outputs": [],
   "source": [
    "df = df.iloc[:, 9:]\n",
    "df"
   ]
  },
  {
   "cell_type": "code",
   "execution_count": null,
   "metadata": {
    "scrolled": true
   },
   "outputs": [],
   "source": [
    "npy = df.to_numpy()\n",
    "print(npy.shape, npy)"
   ]
  },
  {
   "cell_type": "code",
   "execution_count": null,
   "metadata": {},
   "outputs": [],
   "source": [
    "np.save('./npy/' + SAVE_NAME + '.npy', npy)"
   ]
  },
  {
   "cell_type": "markdown",
   "metadata": {},
   "source": [
    "# Movie genre"
   ]
  },
  {
   "cell_type": "code",
   "execution_count": null,
   "metadata": {},
   "outputs": [],
   "source": [
    "PATH = '../genresMat.csv'\n",
    "SAVE_NAME = 'movie_genre'"
   ]
  },
  {
   "cell_type": "code",
   "execution_count": null,
   "metadata": {},
   "outputs": [],
   "source": [
    "df = pd.read_csv(PATH)\n",
    "df"
   ]
  },
  {
   "cell_type": "code",
   "execution_count": null,
   "metadata": {},
   "outputs": [],
   "source": [
    "df = df.iloc[:, 1:]\n",
    "df"
   ]
  },
  {
   "cell_type": "code",
   "execution_count": null,
   "metadata": {},
   "outputs": [],
   "source": [
    "npy = df.to_numpy()\n",
    "print(npy.shape, npy)"
   ]
  },
  {
   "cell_type": "code",
   "execution_count": null,
   "metadata": {},
   "outputs": [],
   "source": [
    "np.save('./npy/' + SAVE_NAME + '.npy', npy)"
   ]
  },
  {
   "cell_type": "markdown",
   "metadata": {},
   "source": [
    "# User preference"
   ]
  },
  {
   "cell_type": "markdown",
   "metadata": {},
   "source": [
    "## User following"
   ]
  },
  {
   "cell_type": "code",
   "execution_count": null,
   "metadata": {},
   "outputs": [],
   "source": [
    "PATH = '../User/output/UserFollowingsMat.csv'\n",
    "SAVE_NAME = 'user_followings'"
   ]
  },
  {
   "cell_type": "code",
   "execution_count": null,
   "metadata": {},
   "outputs": [],
   "source": [
    "df = pd.read_csv(PATH, header = None)\n",
    "df"
   ]
  },
  {
   "cell_type": "code",
   "execution_count": null,
   "metadata": {},
   "outputs": [],
   "source": [
    "df = df.loc[1:, 1:]\n",
    "df"
   ]
  },
  {
   "cell_type": "code",
   "execution_count": null,
   "metadata": {},
   "outputs": [],
   "source": [
    "npy = df.to_numpy().astype(int)\n",
    "print(npy.shape, npy)"
   ]
  },
  {
   "cell_type": "code",
   "execution_count": null,
   "metadata": {},
   "outputs": [],
   "source": [
    "np.save('./npy/' + SAVE_NAME + '.npy', npy)"
   ]
  },
  {
   "cell_type": "markdown",
   "metadata": {},
   "source": [
    "## User genre"
   ]
  },
  {
   "cell_type": "code",
   "execution_count": null,
   "metadata": {},
   "outputs": [],
   "source": [
    "SAVE_NAME = 'user_genre'"
   ]
  },
  {
   "cell_type": "code",
   "execution_count": null,
   "metadata": {},
   "outputs": [],
   "source": [
    "user_followings = np.load('./npy/user_followings.npy')\n",
    "movie_genre = np.load('./npy/movie_genre.npy')"
   ]
  },
  {
   "cell_type": "code",
   "execution_count": null,
   "metadata": {},
   "outputs": [],
   "source": [
    "user_followings = user_followings.astype(int)\n",
    "movie_genre = movie_genre.astype(int)"
   ]
  },
  {
   "cell_type": "code",
   "execution_count": null,
   "metadata": {},
   "outputs": [],
   "source": [
    "user_genre = user_followings.dot(movie_genre)"
   ]
  },
  {
   "cell_type": "code",
   "execution_count": null,
   "metadata": {},
   "outputs": [],
   "source": [
    "print(user_genre.shape)"
   ]
  },
  {
   "cell_type": "code",
   "execution_count": null,
   "metadata": {},
   "outputs": [],
   "source": [
    "df = pd.DataFrame(user_genre)\n",
    "df"
   ]
  },
  {
   "cell_type": "code",
   "execution_count": null,
   "metadata": {},
   "outputs": [],
   "source": [
    "npy = df.to_numpy()\n",
    "print(npy.shape, npy)"
   ]
  },
  {
   "cell_type": "code",
   "execution_count": null,
   "metadata": {},
   "outputs": [],
   "source": [
    "np.save('./npy/' + SAVE_NAME + '.npy', npy)"
   ]
  },
  {
   "cell_type": "code",
   "execution_count": null,
   "metadata": {
    "scrolled": true
   },
   "outputs": [],
   "source": [
    "columns = read_json('../orderedListGenres.json')\n",
    "print(len(columns), columns)\n",
    "users = read_json('../orderedListUsers.json')\n",
    "print(len(users), users)"
   ]
  },
  {
   "cell_type": "code",
   "execution_count": null,
   "metadata": {},
   "outputs": [],
   "source": [
    "df.columns = columns\n",
    "df.index = users\n",
    "df"
   ]
  },
  {
   "cell_type": "code",
   "execution_count": null,
   "metadata": {},
   "outputs": [],
   "source": [
    "df.to_csv('../User/output/UserGenreMat.csv')"
   ]
  },
  {
   "cell_type": "markdown",
   "metadata": {},
   "source": [
    "# Merge all features"
   ]
  },
  {
   "cell_type": "code",
   "execution_count": 8,
   "metadata": {},
   "outputs": [
    {
     "name": "stdout",
     "output_type": "stream",
     "text": [
      "Text: (165, 300)\n",
      "Image: (165, 2048)\n",
      "Video: (165, 8)\n",
      "Follow: (165, 10)\n",
      "Social: (165, 6)\n"
     ]
    }
   ],
   "source": [
    "text_npy = np.load('./npy/text.npy')\n",
    "# poster_npy = np.load('./npy/poster.npy')\n",
    "# IGimg_npy = np.load('./npy/IGimg.npy')\n",
    "image_npy = np.load('./npy/image.npy')\n",
    "video_npy = np.load('./npy/video.npy')\n",
    "follow_npy = np.load('./npy/follow.npy')\n",
    "social_npy = np.load('./npy/social.npy')\n",
    "\n",
    "print('Text:', text_npy.shape)\n",
    "# print('Poster:', poster_npy.shape)\n",
    "# print('IGimg:', IGimg_npy.shape)\n",
    "print('Image:', image_npy.shape)\n",
    "print('Video:', video_npy.shape)\n",
    "print('Follow:', follow_npy.shape)\n",
    "print('Social:', social_npy.shape)"
   ]
  },
  {
   "cell_type": "code",
   "execution_count": 9,
   "metadata": {},
   "outputs": [],
   "source": [
    "npys = [image_npy, video_npy, follow_npy, social_npy]"
   ]
  },
  {
   "cell_type": "code",
   "execution_count": 10,
   "metadata": {},
   "outputs": [
    {
     "name": "stdout",
     "output_type": "stream",
     "text": [
      "(165, 2372)\n"
     ]
    }
   ],
   "source": [
    "tmp = text_npy\n",
    "\n",
    "for npy in npys:\n",
    "    tmp = np.hstack([tmp, npy])\n",
    "    \n",
    "print(tmp.shape)"
   ]
  },
  {
   "cell_type": "code",
   "execution_count": 11,
   "metadata": {},
   "outputs": [],
   "source": [
    "SAVE_NAME = 'all_2372'"
   ]
  },
  {
   "cell_type": "code",
   "execution_count": 12,
   "metadata": {},
   "outputs": [],
   "source": [
    "np.save('./npy/' + SAVE_NAME + '.npy', tmp)"
   ]
  },
  {
   "cell_type": "code",
   "execution_count": null,
   "metadata": {},
   "outputs": [],
   "source": []
  }
 ],
 "metadata": {
  "kernelspec": {
   "display_name": "Python 3",
   "language": "python",
   "name": "python3"
  },
  "language_info": {
   "codemirror_mode": {
    "name": "ipython",
    "version": 3
   },
   "file_extension": ".py",
   "mimetype": "text/x-python",
   "name": "python",
   "nbconvert_exporter": "python",
   "pygments_lexer": "ipython3",
   "version": "3.6.10"
  }
 },
 "nbformat": 4,
 "nbformat_minor": 4
}
